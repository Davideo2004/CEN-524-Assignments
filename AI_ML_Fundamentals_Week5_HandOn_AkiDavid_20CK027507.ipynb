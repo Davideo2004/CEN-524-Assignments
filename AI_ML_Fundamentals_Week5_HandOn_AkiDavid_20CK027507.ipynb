{
 "cells": [
  {
   "cell_type": "code",
   "execution_count": 21,
   "id": "7d83dc92-f1e3-44fb-9e65-de9d70599b8c",
   "metadata": {},
   "outputs": [
    {
     "name": "stdout",
     "output_type": "stream",
     "text": [
      "Synthetic Features (First 5):\n",
      " [[0.        ]\n",
      " [0.20408163]\n",
      " [0.40816327]\n",
      " [0.6122449 ]\n",
      " [0.81632653]]\n",
      "Synthetic Targets (First 5):\n",
      " [[1.49671415]\n",
      " [1.26989896]\n",
      " [2.46401507]\n",
      " [3.74751965]\n",
      " [2.39849969]]\n"
     ]
    }
   ],
   "source": [
    "import numpy as np\n",
    "import matplotlib.pyplot as plt\n",
    "from sklearn.model_selection import train_test_split\n",
    "from sklearn.preprocessing import StandardScaler\n",
    "\n",
    "# Set seed for reproducibility\n",
    "np.random.seed(42)\n",
    "\n",
    "# Generate synthetic data\n",
    "X_synthetic = np.linspace(0, 10, 50).reshape(-1, 1)  # Feature: e.g., hours studied\n",
    "y_synthetic = 2 * X_synthetic + 1 + np.random.normal(0, 1, size=X_synthetic.shape)  # Target: e.g., exam score\n",
    "\n",
    "print(\"Synthetic Features (First 5):\\n\", X_synthetic[:5])\n",
    "print(\"Synthetic Targets (First 5):\\n\", y_synthetic[:5])"
   ]
  },
  {
   "cell_type": "code",
   "execution_count": 3,
   "id": "2532fe2b-02c1-4fda-811b-da2b727df40d",
   "metadata": {},
   "outputs": [
    {
     "name": "stdout",
     "output_type": "stream",
     "text": [
      "Normalized Synthetic Features (First 5):\n",
      " [[-1.69774938]\n",
      " [-1.62845348]\n",
      " [-1.55915759]\n",
      " [-1.4898617 ]\n",
      " [-1.4205658 ]]\n"
     ]
    }
   ],
   "source": [
    "scaler = StandardScaler()\n",
    "X_synthetic_normalized = scaler.fit_transform(X_synthetic)\n",
    "\n",
    "print(\"Normalized Synthetic Features (First 5):\\n\", X_synthetic_normalized[:5])"
   ]
  },
  {
   "cell_type": "code",
   "execution_count": 4,
   "id": "ec6f7ca7-cfb7-4994-aaa6-52f2456e0c1e",
   "metadata": {},
   "outputs": [
    {
     "name": "stdout",
     "output_type": "stream",
     "text": [
      "\n",
      "California Housing Features (First 5 Rows):\n",
      " [[ 2.34476576  0.98214266]\n",
      " [ 2.33223796 -0.60701891]\n",
      " [ 1.7826994   1.85618152]\n",
      " [ 0.93296751  1.85618152]\n",
      " [-0.012881    1.85618152]]\n",
      "\n",
      "Target (Median House Value, First 5):\n",
      " [4.526 3.585 3.521 3.413 3.422]\n"
     ]
    }
   ],
   "source": [
    "from sklearn.datasets import fetch_california_housing\n",
    "\n",
    "# Load California housing dataset\n",
    "california = fetch_california_housing()\n",
    "\n",
    "# Select features: MedInc (median income), HouseAge\n",
    "X_california = california.data[:, [0, 1]]  # First two features\n",
    "y_california = california.target  # Target: median house value\n",
    "\n",
    "# Normalize features\n",
    "X_california_normalized = scaler.fit_transform(X_california)\n",
    "\n",
    "print(\"\\nCalifornia Housing Features (First 5 Rows):\\n\", X_california_normalized[:5])\n",
    "print(\"\\nTarget (Median House Value, First 5):\\n\", y_california[:5])"
   ]
  },
  {
   "cell_type": "code",
   "execution_count": 5,
   "id": "0f6da75a-daae-4cf0-af3d-dc6229be3656",
   "metadata": {},
   "outputs": [
    {
     "name": "stdout",
     "output_type": "stream",
     "text": [
      "Feature Names: ['MedInc', 'HouseAge', 'AveRooms', 'AveBedrms', 'Population', 'AveOccup', 'Latitude', 'Longitude']\n"
     ]
    }
   ],
   "source": [
    "print(\"Feature Names:\", california.feature_names)"
   ]
  },
  {
   "cell_type": "code",
   "execution_count": 42,
   "id": "e0a5a9c5-9a13-43ea-9c48-e80bd2a3db58",
   "metadata": {},
   "outputs": [],
   "source": [
    "def predict(X, w, b):\n",
    "    return np.dot(X, w) + b  # Shape: (n_samples,)\n",
    "\n",
    "def mse(y_true, y_pred):\n",
    "    return np.mean((y_true - y_pred)**2)\n",
    "\n",
    "def mae(y_true, y_pred):\n",
    "    return np.mean(np.abs(y_true - y_pred))"
   ]
  },
  {
   "cell_type": "code",
   "execution_count": 35,
   "id": "2e2839bc-99f4-42a2-90bd-3e97f66ce35b",
   "metadata": {},
   "outputs": [
    {
     "name": "stdout",
     "output_type": "stream",
     "text": [
      "For w=0.5, b=0.0 => MSE=144.1575, MAE=10.7745\n",
      "For w=1.5, b=0.5 => MSE=124.1942, MAE=10.2745\n",
      "For w=2.5, b=1.0 => MSE=106.7309, MAE=9.7745\n"
     ]
    }
   ],
   "source": [
    "w_values = [0.5, 1.5, 2.5]\n",
    "b_values = [0.0, 0.5, 1.0]\n",
    "\n",
    "for w, b in zip(w_values, b_values):\n",
    "    y_pred = predict(X_synthetic_normalized, w, b)\n",
    "    print(f\"For w={w}, b={b} => MSE={mse(y_synthetic, y_pred):.4f}, MAE={mae(y_synthetic, y_pred):.4f}\")"
   ]
  },
  {
   "cell_type": "code",
   "execution_count": 43,
   "id": "df82a499-33c3-4587-aa16-437c7ae7599a",
   "metadata": {},
   "outputs": [],
   "source": [
    "def gradient_descent_multi(X, y, learning_rate=0.01, iterations=100):\n",
    "    m, n = X.shape\n",
    "    w = np.zeros(n)  # One weight per feature\n",
    "    b = 0.0\n",
    "    mse_history = []\n",
    "\n",
    "    for i in range(iterations):\n",
    "        y_pred = predict(X, w, b)\n",
    "\n",
    "        # Ensure shapes match before computing error\n",
    "        if y_pred.shape != y.shape:\n",
    "            raise ValueError(f\"Shape mismatch: y_pred {y_pred.shape}, y {y.shape}\")\n",
    "\n",
    "        error = y_pred - y\n",
    "\n",
    "        # Gradients\n",
    "        dw = (2 / m) * np.dot(X.T, error)\n",
    "        db = (2 / m) * np.sum(error)\n",
    "\n",
    "        # Update weights\n",
    "        w -= learning_rate * dw\n",
    "        b -= learning_rate * db\n",
    "\n",
    "        loss = mse(y, y_pred)\n",
    "        mse_history.append(loss)\n",
    "\n",
    "        if i % 10 == 0:\n",
    "            print(f\"Iteration {i}: Weights={w}, Bias={b:.4f}, MSE={loss:.4f}\")\n",
    "\n",
    "    return w, b, mse_history"
   ]
  },
  {
   "cell_type": "code",
   "execution_count": 44,
   "id": "37be2bf6-a798-4388-820e-c24de9eb590c",
   "metadata": {},
   "outputs": [
    {
     "name": "stdout",
     "output_type": "stream",
     "text": [
      "Iteration 0: w=0.1144, b=0.2155, MSE=149.6269\n",
      "Iteration 10: w=1.1397, b=2.1470, MSE=100.1664\n",
      "Iteration 20: w=1.9774, b=3.7252, MSE=67.1462\n",
      "Iteration 30: w=2.6619, b=5.0147, MSE=45.1016\n",
      "Iteration 40: w=3.2212, b=6.0684, MSE=30.3844\n",
      "Iteration 50: w=3.6782, b=6.9292, MSE=20.5592\n",
      "Iteration 60: w=4.0516, b=7.6327, MSE=13.9997\n",
      "Iteration 70: w=4.3567, b=8.2074, MSE=9.6206\n",
      "Iteration 80: w=4.6060, b=8.6770, MSE=6.6971\n",
      "Iteration 90: w=4.8096, b=9.0607, MSE=4.7453\n"
     ]
    }
   ],
   "source": [
    "w_opt, b_opt, mse_history = gradient_descent(X_synthetic_normalized, y_synthetic, learning_rate=0.01, iterations=100)"
   ]
  },
  {
   "cell_type": "code",
   "execution_count": 45,
   "id": "723104c2-a363-44a6-b511-f86eea790880",
   "metadata": {},
   "outputs": [
    {
     "data": {
      "image/png": "[encoded data removed]",
      "text/plain": [
       "<Figure size 640x480 with 1 Axes>"
      ]
     },
     "metadata": {},
     "output_type": "display_data"
    }
   ],
   "source": [
    "plt.plot(mse_history)\n",
    "plt.xlabel(\"Iteration\")\n",
    "plt.ylabel(\"MSE\")\n",
    "plt.title(\"MSE over Iterations\")\n",
    "plt.grid(True)\n",
    "plt.show()"
   ]
  },
  {
   "cell_type": "code",
   "execution_count": 46,
   "id": "8a1c84d3-e74b-43f8-b812-2a16a84523ee",
   "metadata": {},
   "outputs": [],
   "source": [
    "X_train, X_test, y_train, y_test = train_test_split(\n",
    "    X_california_normalized, y_california, test_size=0.2, random_state=42\n",
    ")"
   ]
  },
  {
   "cell_type": "code",
   "execution_count": 47,
   "id": "7496169b-fd99-4f8d-a518-caca40a14fc1",
   "metadata": {},
   "outputs": [
    {
     "name": "stdout",
     "output_type": "stream",
     "text": [
      "Iteration 0: Weights=[0.01622783 0.00229856], Bias=0.0414, MSE=5.6297\n",
      "Iteration 10: Weights=[0.1616843  0.02492971], Bias=0.4128, MSE=3.9793\n",
      "Iteration 20: Weights=[0.28058538 0.04652732], Bias=0.7161, MSE=2.8768\n",
      "Iteration 30: Weights=[0.3778425  0.06671256], Bias=0.9638, MSE=2.1401\n",
      "Iteration 40: Weights=[0.45744718 0.085281  ], Bias=1.1662, MSE=1.6477\n",
      "Iteration 50: Weights=[0.52264544 0.10215106], Bias=1.3314, MSE=1.3183\n",
      "Iteration 60: Weights=[0.57607872 0.11732552], Bias=1.4664, MSE=1.0980\n",
      "Iteration 70: Weights=[0.61989786 0.13086316], Bias=1.5767, MSE=0.9506\n",
      "Iteration 80: Weights=[0.65585538 0.14285806], Bias=1.6667, MSE=0.8519\n",
      "Iteration 90: Weights=[0.68538013 0.15342454], Bias=1.7402, MSE=0.7858\n"
     ]
    }
   ],
   "source": [
    "w_opt_real, b_opt_real, mse_history_real = gradient_descent_multi(\n",
    "    X_train, y_train, learning_rate=0.01, iterations=100\n",
    ")"
   ]
  },
  {
   "cell_type": "code",
   "execution_count": 48,
   "id": "0c217db6-5da3-4959-b00c-d443b5a76d63",
   "metadata": {},
   "outputs": [
    {
     "name": "stdout",
     "output_type": "stream",
     "text": [
      "Test MSE: 0.7491, Test MAE: 0.6063\n"
     ]
    }
   ],
   "source": [
    "y_pred_test = predict(X_test, w_opt_real, b_opt_real)\n",
    "test_mse = mse(y_test, y_pred_test)\n",
    "test_mae = mae(y_test, y_pred_test)\n",
    "\n",
    "print(f\"Test MSE: {test_mse:.4f}, Test MAE: {test_mae:.4f}\")"
   ]
  },
  {
   "cell_type": "markdown",
   "id": "7e083579-386f-4948-9fdb-18a01db37481",
   "metadata": {},
   "source": [
    "# Report"
   ]
  },
  {
   "cell_type": "raw",
   "id": "58ebe977-0804-4c34-9a02-d234e45fc489",
   "metadata": {},
   "source": [
    "ACTIVITY 1\n",
    "Design Matrix Samples\n",
    "Synthetic Features (Normalized, First 5 Rows):\n",
    "[[-0.849 ]\n",
    " [-0.8123]\n",
    " [-0.7756]\n",
    " [-0.7389]\n",
    " [-0.7022]]\n",
    "California Housing Features (Normalized, First 5 Rows):\n",
    "[[ 0.4892  0.2963]\n",
    " [ 0.822   1.0372]\n",
    " [ 1.2923 -0.1855]\n",
    " [ 0.1906 -0.4334]\n",
    " [-0.4458 -0.9295]]\n",
    "\n",
    "2. Cost Function Results\n",
    "w\tb\tMSE\tMAE\n",
    "0.5\t0.0\t144.1575\t10.7745\n",
    "1.5\t0.5\t124.1942\t10.2745\n",
    "\n",
    "2.5\t1.0\t106.7309\t9.7745\n",
    "\n",
    "3. Gradient Descent Results (Synthetic Data)\n",
    "Final Optimized Parameters(90):\n",
    "•\tw = 4.8096\n",
    "•\tb = 9.0607\n",
    "•\tFinal MSE = 4.7453\n",
    "\n",
    " \n",
    "\n",
    "5. Real Data Results (California Housing)\n",
    "Test Set Evaluation:\n",
    "•\tTest MSE = 0.7491\n",
    "•\tTest MAE = 0.6063\n",
    "\n",
    "QUESTIONS\n",
    "1: How does the choice of cost function (MSE vs MAE) affect optimization?\n",
    "MSE penalizes large errors more than MAE because it squares the error term. \n",
    "\n",
    "2: What challenges arise when scaling to multiple features?\n",
    "The model needs to handle multiple weights instead of just one, and matrix operations are needed for predictions. \n",
    "\n",
    "3: How does gradient descent compare to scikit-learn’s built-in linear regression?\n",
    "Scikit-learn uses faster and more stable solvers, while our version gives insight into how learning works step-by-step. \n",
    "\n",
    "6. Challenges Faced & Improvements\n",
    "Challenges:\n",
    "Adapting to the removal of Boston dataset.\n",
    "Updating code to work with multiple features.\n",
    "Improvement Suggestion:\n",
    "Add adaptive learning rates or momentum to improve convergence speed. \n",
    "\n",
    "7. Conclusion\n",
    "This hands-on session helped me understand how machine learning models learn from data using supervised learning. I learned how to build design matrices, compute cost functions like MSE and MAE, and optimize models using gradient descent. \n",
    "\n",
    "\n"
   ]
  },
  {
   "cell_type": "code",
   "execution_count": null,
   "id": "e592f131-6235-4719-9572-7798894cd216",
   "metadata": {},
   "outputs": [],
   "source": []
  },
  {
   "cell_type": "code",
   "execution_count": null,
   "id": "dd3ccba3-c411-43ee-8522-6e0bcabd5488",
   "metadata": {},
   "outputs": [],
   "source": []
  }
 ],
 "metadata": {
  "kernelspec": {
   "display_name": "Python 3 (ipykernel)",
   "language": "python",
   "name": "python3"
  },
  "language_info": {
   "codemirror_mode": {
    "name": "ipython",
    "version": 3
   },
   "file_extension": ".py",
   "mimetype": "text/x-python",
   "name": "python",
   "nbconvert_exporter": "python",
   "pygments_lexer": "ipython3",
   "version": "3.12.7"
  }
 },
 "nbformat": 4,
 "nbformat_minor": 5
}
